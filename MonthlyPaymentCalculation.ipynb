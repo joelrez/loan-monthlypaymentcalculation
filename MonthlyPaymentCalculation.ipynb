{
 "cells": [
  {
   "cell_type": "markdown",
   "id": "74892c1b-8511-4a7b-8e20-82955d491087",
   "metadata": {},
   "source": [
    "# Loan Monthly Payment Calculation\n",
    "In this notebook, we are proving results, and using our results to find the monthly payment we would have to make given an APY, an initial balance, and a number of months for the term of the loan. The following findings come from the general concepts found in https://www.investopedia.com/loan-calculator-5104934. I did not pull any equations from anywhere. These are all found from me messing around with the logic from the link.\n",
    "\n",
    "## Imports"
   ]
  },
  {
   "cell_type": "code",
   "execution_count": 1,
   "id": "9bd67b2f-cc50-406e-97a9-2796eb52e36b",
   "metadata": {},
   "outputs": [],
   "source": [
    "import numpy as np"
   ]
  },
  {
   "cell_type": "markdown",
   "id": "09419e2f-56f3-471a-a514-6f3dcfe1cff6",
   "metadata": {},
   "source": [
    "## Calculate Current Principle\n",
    "\n",
    "The general rule for calculating the next principle balance in the sequence is\n",
    "$$\n",
    "    P_n = P_{n-1}(1+\\frac{r}{12}) - m_p = P_{n-1} + \\frac{r}{12}P_{n-1} - m_p\n",
    "    I_n = \\frac{r}{12}P_{n}\n",
    "$$\n",
    "Where $m_p$ is the monthly payment, and $r$ is the APY interest rate. So,\n",
    "$ P_n = P_{n-1} - (m_p - I_{n-1}) $, and $ Pr_n = m_p - I_{n-1} $ where $Pr_n$ is the monthly principle payment. You can see that $P_n = P_{n-1}(1+r/12) - m_p$ essentially subtracts the principle payment for that month.\n",
    "\n",
    "If the initial principle is $P_0$, then $P_1 = P_0(1+\\frac{r}{12}) - m_p$ and,\n",
    "$$\n",
    "    P_2 = P_1(1+\\frac{r}{12}) - m_p \\\\\n",
    "    = (P_0(1+\\frac{r}{12}) - m_p)(1+\\frac{r}{12}) - m_p\\\\\n",
    "    = P_0(1+\\frac{r}{12})^2 - m_p\\Sigma^1_{k=0}(1+\\frac{r}{12})^k\n",
    "$$\n",
    "More generally, $P_n = P_0(1+\\frac{r}{12})^n -m_p\\Sigma^{n-1}_{k=0}(1+\\frac{r}{12})^k$.\n",
    "\n",
    "The following function, `curprinciple`, uses the above result."
   ]
  },
  {
   "cell_type": "code",
   "execution_count": 4,
   "id": "9604d3a6-139e-4952-8473-461b88640194",
   "metadata": {},
   "outputs": [],
   "source": [
    "def curprinciple(p0, apy, y, mp):\n",
    "    return p0*(1+apy/12)**y - mp*np.sum((1+apy/12)**np.arange(0,y))"
   ]
  },
  {
   "cell_type": "markdown",
   "id": "6e86293c-0c94-4447-8dec-c0efc6ec18a4",
   "metadata": {},
   "source": [
    "## Calculate Cumulative Interest\n",
    "By definition, the interest payment for month $n$ is $I_n = \\frac{r}{12}P_n$, and so cumulative interest is,\n",
    "$$\n",
    "    \\Sigma^n_{k=0}I_k = \\frac{r}{12}\\Sigma^n_{k=0}P_k.\n",
    "$$\n",
    "Using the definition of $P_n$ from before,\n",
    "$$\n",
    "    \\Sigma^n_{k=0}I_k = \\frac{r}{12}[P_0 + P_0\\Sigma^n_{k=1}(1+\\frac{r}{12})^n -m_p\\Sigma^n_{k=1}\\Sigma^{k-1}_{j=0}(1+\\frac{r}{12})^j].\n",
    "$$\n",
    "If you think about $\\Sigma^n_{k=1}\\Sigma^{k-1}_{j=0}(1+\\frac{r}{12})^j$ for a moment, you'll find,\n",
    "$$\n",
    "    \\Sigma^n_{k=1}\\Sigma^{k-1}_{j=0}(1+\\frac{r}{12})^j = \\Sigma^n_{k=0}(n-k)(1+\\frac{r}{12})^k\n",
    "$$\n",
    "And $P_0 + P_0\\Sigma^n_{k=1}(1+\\frac{r}{12})^k =P_0\\Sigma^n_{k=0}(1+\\frac{r}{12})^n$\n",
    "\n",
    "So,\n",
    "$$\n",
    "    \\Sigma^n_{k=0}I_k = \\frac{r}{12}[P_0\\Sigma^n_{k=0}(1+\\frac{r}{12})^n -m_p\\Sigma^n_{k=0}(n-k)(1+\\frac{r}{12})^k] = \n",
    "    \\frac{r}{12}\\Sigma^n_{k=0}(P_0-m_p(n-k))(1+\\frac{r}{12})^k.\n",
    "$$\n",
    "We use this result in the function below."
   ]
  },
  {
   "cell_type": "code",
   "execution_count": 5,
   "id": "4cd81a38-d7d1-4185-b61f-45b6adb184ed",
   "metadata": {},
   "outputs": [],
   "source": [
    "def cumInterest2(p0, apy, y, mp):\n",
    "    return apy*np.sum((p0 - mp*(y-np.arange(0,y+1)))*(1+apy/12)**np.arange(0,y+1))/12"
   ]
  },
  {
   "cell_type": "markdown",
   "id": "6800458b-165b-4637-8db9-020ae7483a7d",
   "metadata": {},
   "source": [
    "## Calculate Monthly Payment for A Loan\n",
    "It's not difficult from this point to find the monthly payment for a loan. As arguments, we know the starting balance, the APY, and the number of months we want to pay the loan $n$. Since $n$ is after the final payment, then $P_n = 0.$ By definition,\n",
    "$$\n",
    "    P_n = 0 = P_0(1+\\frac{r}{12})^n -m_p\\Sigma^{n-1}_{k=0}(1+\\frac{r}{12})^k\n",
    "$$\n",
    "\n",
    "And by algebraic manipulation,\n",
    "$$\n",
    "    m_p = \\frac{P_0(1+\\frac{r}{12})^n}{\\Sigma^{n-1}_{k=0}(1+\\frac{r}{12})^k}\n",
    "$$\n",
    "\n",
    "The following function applies this same logic."
   ]
  },
  {
   "cell_type": "code",
   "execution_count": 3,
   "id": "3d10ccda-59ba-4bf2-9da6-f2762c38b575",
   "metadata": {},
   "outputs": [],
   "source": [
    "def findMp(p0, apy, y):\n",
    "    return p0*(1+apy/12)**y/np.sum((1+apy/12)**np.arange(0,y))"
   ]
  },
  {
   "cell_type": "markdown",
   "id": "2cb628ed-523a-4362-91ab-2131368d08df",
   "metadata": {},
   "source": [
    "The following result is obvious."
   ]
  },
  {
   "cell_type": "code",
   "execution_count": 2,
   "id": "67a9bf7a-ee72-4fd9-b45e-54fc46577213",
   "metadata": {},
   "outputs": [],
   "source": [
    "def cumPrinciplePayments(p0,apy,y,mp):\n",
    "   return mp*y - cumInterest2(p0,apy,y,mp)"
   ]
  },
  {
   "cell_type": "markdown",
   "id": "b45032f0-9a25-4c73-b0c5-e02531e4b1b4",
   "metadata": {},
   "source": [
    "The following calculates cumulative interest using recursion."
   ]
  },
  {
   "cell_type": "code",
   "execution_count": 6,
   "id": "bcc7a20a-6fea-48d0-b38e-5dc4d8f52e14",
   "metadata": {},
   "outputs": [],
   "source": [
    "def cumInterest1(p0, apy, y, mp):\n",
    "    Iy = curprinciple(p0, apy, y, mp)*apy/12\n",
    "    if y == 0:\n",
    "        return Iy\n",
    "    else:\n",
    "        return Iy + cumInterest1(p0, apy, y-1, mp)"
   ]
  },
  {
   "cell_type": "code",
   "execution_count": 7,
   "id": "1a4e577d-922b-48a7-af6e-8e27c33b9e9c",
   "metadata": {},
   "outputs": [
    {
     "data": {
      "text/plain": [
       "5828.061983426304"
      ]
     },
     "execution_count": 7,
     "metadata": {},
     "output_type": "execute_result"
    }
   ],
   "source": [
    "curprinciple(6009, 0.048, 4, 69) # Current principle at 4 months"
   ]
  },
  {
   "cell_type": "code",
   "execution_count": 19,
   "id": "e614e3d8-c66c-438b-9339-a1bd4fbdce1f",
   "metadata": {},
   "outputs": [
    {
     "data": {
      "text/plain": [
       "96.21806114534229"
      ]
     },
     "execution_count": 19,
     "metadata": {},
     "output_type": "execute_result"
    }
   ],
   "source": [
    "# This calculates the monthly payment you need to pay the principle of 6009 with a 4.8% APY over 72 months\n",
    "mp = findMp(6009, 0.048, 72) \n",
    "mp"
   ]
  },
  {
   "cell_type": "code",
   "execution_count": 20,
   "id": "4b8a5001-a043-493e-b80b-6366ac73d758",
   "metadata": {},
   "outputs": [
    {
     "data": {
      "text/plain": [
       "0.0"
      ]
     },
     "execution_count": 20,
     "metadata": {},
     "output_type": "execute_result"
    }
   ],
   "source": [
    "# This shows that given this monthly payment we've calculated that it does indeed reduce the principle balance to 0 over\n",
    "# 72 months\n",
    "curprinciple(6009, 0.048, 72, mp)"
   ]
  },
  {
   "cell_type": "code",
   "execution_count": 10,
   "id": "4287ad25-bf05-4635-a542-63b3e809d4af",
   "metadata": {},
   "outputs": [
    {
     "data": {
      "text/plain": [
       "918.700402464643"
      ]
     },
     "execution_count": 10,
     "metadata": {},
     "output_type": "execute_result"
    }
   ],
   "source": [
    "# The cumulative interest paid over 72 months given the calculated monthly payment (mp)\n",
    "cumInterest2(6009, 0.048, 72, mp)"
   ]
  },
  {
   "cell_type": "code",
   "execution_count": 11,
   "id": "e55be685-ff7a-49bb-afc4-2b3a47a7df93",
   "metadata": {},
   "outputs": [
    {
     "data": {
      "text/plain": [
       "6009.000000000002"
      ]
     },
     "execution_count": 11,
     "metadata": {},
     "output_type": "execute_result"
    }
   ],
   "source": [
    "# Cumulative principle payments over 72 months for a given mp (which should be equivalent to the starting balance\n",
    "# since this is the mp required to pay off the principle in 72 months.)\n",
    "cumPrinciplePayments(6009, 0.048,72,mp)"
   ]
  },
  {
   "cell_type": "code",
   "execution_count": 27,
   "id": "c717c9af-1e15-45f3-bee0-a2d210a1a777",
   "metadata": {},
   "outputs": [
    {
     "data": {
      "text/plain": [
       "2147.2864920485517"
      ]
     },
     "execution_count": 27,
     "metadata": {},
     "output_type": "execute_result"
    }
   ],
   "source": [
    "mp = findMp(400000, 0.05, 30*12)\n",
    "mp"
   ]
  },
  {
   "cell_type": "code",
   "execution_count": 26,
   "id": "c424e58f-dc50-42bd-953d-ffcd7efb3815",
   "metadata": {},
   "outputs": [
    {
     "data": {
      "text/plain": [
       "37162.80073298304"
      ]
     },
     "execution_count": 26,
     "metadata": {},
     "output_type": "execute_result"
    }
   ],
   "source": [
    "curprinciple(400000, 0.05, 342, mp)"
   ]
  },
  {
   "cell_type": "code",
   "execution_count": 12,
   "id": "469a0e94-c5d2-40ae-bc41-8e1c083bd4f0",
   "metadata": {},
   "outputs": [
    {
     "data": {
      "text/plain": [
       "918.700402464643"
      ]
     },
     "execution_count": 12,
     "metadata": {},
     "output_type": "execute_result"
    }
   ],
   "source": [
    "cumInterest1(6009, 0.048, 72, mp)"
   ]
  }
 ],
 "metadata": {
  "kernelspec": {
   "display_name": "Python 3 (ipykernel)",
   "language": "python",
   "name": "python3"
  },
  "language_info": {
   "codemirror_mode": {
    "name": "ipython",
    "version": 3
   },
   "file_extension": ".py",
   "mimetype": "text/x-python",
   "name": "python",
   "nbconvert_exporter": "python",
   "pygments_lexer": "ipython3",
   "version": "3.11.7"
  }
 },
 "nbformat": 4,
 "nbformat_minor": 5
}
